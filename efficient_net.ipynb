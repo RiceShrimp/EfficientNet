{
 "cells": [
  {
   "cell_type": "code",
   "execution_count": null,
   "metadata": {},
   "outputs": [],
   "source": [
    "import tensorflow as tf\n",
    "from keras.utils import multi_gpu_model\n",
    "from keras.callbacks import EarlyStopping, ModelCheckpoint, LearningRateScheduler\n",
    "from keras.optimizers import Nadam, SGD\n",
    "from keras.models import Model, load_model\n",
    "from keras.layers import GlobalAveragePooling2D, Dense\n",
    "from keras.preprocessing.image import ImageDataGenerator\n",
    "from efficientnet.preprocessing import preprocess_input\n",
    "from efficientnet import model\n",
    "from PIL import ImageFile\n",
    "import os\n",
    "import math\n",
    "\n",
    "os.environ['TF_CPP_MIN_LOG_LEVEL'] = '3'\n",
    "ImageFile.LOAD_TRUNCATED_IMAGES = True\n",
    "print('Tensorflow', tf.__version__)\n",
    "\n",
    "os.environ[\"CUDA_VISIBLE_DEVICES\"] = \"1\""
   ]
  },
  {
   "cell_type": "code",
   "execution_count": null,
   "metadata": {},
   "outputs": [],
   "source": [
    "train_path = 'train/'\n",
    "test_path = 'val/'\n",
    "\n",
    "lr = 2e-5\n",
    "batch_size = 16\n",
    "img_height, img_width = 299, 299\n",
    "classes = 4"
   ]
  },
  {
   "cell_type": "code",
   "execution_count": null,
   "metadata": {},
   "outputs": [],
   "source": [
    "train_datagen = ImageDataGenerator(\n",
    "    preprocessing_function=preprocess_input,\n",
    "    width_shift_range=0.3,\n",
    "    height_shift_range=0.3,\n",
    "    rotation_range=30,\n",
    "    shear_range=0.5,\n",
    "    zoom_range=.7,\n",
    "    channel_shift_range=0.3,\n",
    "    cval=0.5,\n",
    "    vertical_flip=False,\n",
    "    brightness_range=[0.1,0.7],\n",
    "    fill_mode='nearest')\n",
    "\n",
    "test_datagen = ImageDataGenerator(preprocessing_function=preprocess_input)\n",
    "\n",
    "train_generator = train_datagen.flow_from_directory(\n",
    "    train_path,\n",
    "    target_size=(img_height, img_width),\n",
    "    batch_size=batch_size,\n",
    "    class_mode='categorical')\n",
    "\n",
    "test_generator = test_datagen.flow_from_directory(\n",
    "    test_path,\n",
    "    target_size=(img_height, img_width),\n",
    "    batch_size=batch_size,\n",
    "    class_mode='categorical')"
   ]
  },
  {
   "cell_type": "code",
   "execution_count": null,
   "metadata": {},
   "outputs": [],
   "source": [
    "model_path = 'model/'\n",
    "top_weights_path = os.path.join(\n",
    "    os.path.abspath(model_path), 'top_model_weights_efficient.h5')\n",
    "final_weights_path = os.path.join(\n",
    "    os.path.abspath(model_path), 'model_weights_efficient.h5')"
   ]
  },
  {
   "cell_type": "code",
   "execution_count": null,
   "metadata": {},
   "outputs": [],
   "source": [
    "callbacks_list = [ModelCheckpoint(final_weights_path, monitor='val_acc', verbose=1, save_best_only=True),\n",
    "                  EarlyStopping(monitor='val_loss', patience=5, verbose=1)]\n",
    "\n",
    "efficient = model.EfficientNetB5(include_top=False, weights='imagenet',\n",
    "                    input_shape=(img_height, img_width, 3), pooling = 'avg')\n",
    "x = efficient.output\n",
    "x = Dense(classes, activation='softmax')(x)\n",
    "module = Model(inputs=efficient.input, outputs=x)"
   ]
  },
  {
   "cell_type": "code",
   "execution_count": null,
   "metadata": {},
   "outputs": [],
   "source": [
    "module.compile(optimizer=Nadam(\n",
    "    lr), loss='categorical_crossentropy', metrics=['accuracy'])"
   ]
  },
  {
   "cell_type": "code",
   "execution_count": null,
   "metadata": {},
   "outputs": [],
   "source": [
    "history = module.fit_generator(train_generator,\n",
    "                              steps_per_epoch=train_generator.__len__(),\n",
    "                              epochs=50,\n",
    "                              validation_data=test_generator,\n",
    "                              validation_steps=test_generator.__len__(),\n",
    "                              use_multiprocessing=False,\n",
    "                              callbacks=callbacks_list)"
   ]
  },
  {
   "cell_type": "code",
   "execution_count": null,
   "metadata": {},
   "outputs": [],
   "source": [
    "# Fine Tuning"
   ]
  },
  {
   "cell_type": "code",
   "execution_count": null,
   "metadata": {},
   "outputs": [],
   "source": [
    "tf.keras.utils.plot_model(module)"
   ]
  },
  {
   "cell_type": "code",
   "execution_count": null,
   "metadata": {},
   "outputs": [],
   "source": [
    "[x.name for x in module.layers].index('add_124')"
   ]
  },
  {
   "cell_type": "code",
   "execution_count": null,
   "metadata": {},
   "outputs": [],
   "source": [
    "unfreeze = 526\n",
    "for layer in module.layers[:-unfreeze]:\n",
    "    layer.trainable = False\n",
    "\n",
    "for layer in module.layers[-unfreeze:]:\n",
    "    layer.trainable = True"
   ]
  },
  {
   "cell_type": "code",
   "execution_count": null,
   "metadata": {},
   "outputs": [],
   "source": [
    "# load model"
   ]
  },
  {
   "cell_type": "code",
   "execution_count": null,
   "metadata": {},
   "outputs": [],
   "source": [
    "from keras.models import load_model\n",
    "import efficientnet\n",
    "_ = efficientnet.model.EfficientNetB5() # Model used for training\n",
    "model = load_model('model/model_weights_efficient.h5')"
   ]
  }
 ],
 "metadata": {
  "kernelspec": {
   "display_name": "tf12",
   "language": "python",
   "name": "tf12"
  },
  "language_info": {
   "codemirror_mode": {
    "name": "ipython",
    "version": 3
   },
   "file_extension": ".py",
   "mimetype": "text/x-python",
   "name": "python",
   "nbconvert_exporter": "python",
   "pygments_lexer": "ipython3",
   "version": "3.6.5"
  }
 },
 "nbformat": 4,
 "nbformat_minor": 2
}
